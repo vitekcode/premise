{
 "cells": [
  {
   "cell_type": "code",
   "execution_count": 1,
   "id": "ce083c05-a99b-4e9b-94c3-1a87d4ee033c",
   "metadata": {},
   "outputs": [],
   "source": [
    "import brightway2 as bw\n",
    "from premise import *"
   ]
  },
  {
   "cell_type": "code",
   "execution_count": 2,
   "id": "941c72a5-6f3c-4c3c-833a-ebd48db59669",
   "metadata": {},
   "outputs": [],
   "source": [
    "bw.projects.set_current(\"premise\")"
   ]
  },
  {
   "cell_type": "code",
   "execution_count": 4,
   "id": "1e6ebbae-2743-4e76-ab3d-e7a5dd873539",
   "metadata": {},
   "outputs": [
    {
     "name": "stdout",
     "output_type": "stream",
     "text": [
      "+------------------------------------------------------------------+\n",
      "| Warning                                                          |\n",
      "+------------------------------------------------------------------+\n",
      "| Because some of the scenarios can yield LCI databases            |\n",
      "| containing net negative emission technologies (NET),             |\n",
      "| it is advised to account for biogenic CO2 flows when calculating |\n",
      "| Global Warming potential indicators.                             |\n",
      "| `premise_gwp` provides characterization factors for such flows.  |\n",
      "| It also provides factors for hydrogen emissions to air.          |\n",
      "|                                                                  |\n",
      "| Within your bw2 project:                                         |\n",
      "| from premise_gwp import add_premise_gwp                          |\n",
      "| add_premise_gwp()                                                |\n",
      "+------------------------------------------------------------------+\n",
      "\n",
      "//////////////////// EXTRACTING SOURCE DATABASE ////////////////////\n",
      "Done!\n",
      "\n",
      "////////////////// IMPORTING DEFAULT INVENTORIES ///////////////////\n",
      "Done!\n",
      "\n",
      "/////////////////////// EXTRACTING IAM DATA ////////////////////////\n",
      "Done!\n"
     ]
    }
   ],
   "source": [
    "ndb = NewDatabase(\n",
    "        scenarios = [\n",
    "            {\"model\":\"image\", \"pathway\":\"SSP2-Base\", \"year\":2050, \"exclude\": [\"update_two_wheelers\", \"update_buses\", \"update_cars\"]},\n",
    "            {\"model\":\"image\", \"pathway\":\"SSP2-RCP26\", \"year\":2030, \"exclude\": [\"update_two_wheelers\", \"update_buses\", \"update_cars\"]},\n",
    "        ],        \n",
    "        source_db=\"ecoinvent 3.8 cutoff\",\n",
    "        source_version=\"3.8\",\n",
    "        key='tUePmX_S5B8ieZkkM7WUU2CnO8SmShwmAeWK9x2rTFo=',\n",
    "        custom_scenario=[\n",
    "            {\n",
    "                \"inventories\": \"\",\n",
    "                \"scenario data\": r\"example.xlsx\",\n",
    "                \"config\": r\"config.yaml\"\n",
    "            }\n",
    "        ]\n",
    "    )"
   ]
  },
  {
   "cell_type": "code",
   "execution_count": 5,
   "id": "371a123b-c48f-4624-b26e-3171a147d897",
   "metadata": {},
   "outputs": [
    {
     "name": "stdout",
     "output_type": "stream",
     "text": [
      "\n",
      "//////////////// IMPORTING USER-DEFINED INVENTORIES ////////////////\n",
      "Regionalize dataset cobalt production.\n",
      "Regionalize dataset almond production.\n",
      "Regionalize dataset banana production.\n",
      "Regionalize dataset breadcrumbs production.\n",
      "Create custom markets.\n",
      "Relink to new markets.\n",
      "\n",
      "//////////////// IMPORTING USER-DEFINED INVENTORIES ////////////////\n",
      "Regionalize dataset cobalt production.\n",
      "Regionalize dataset almond production.\n",
      "Regionalize dataset banana production.\n",
      "Regionalize dataset breadcrumbs production.\n",
      "Create custom markets.\n",
      "Relink to new markets.\n",
      "Relink to new markets.\n"
     ]
    }
   ],
   "source": [
    "#ndb.update_electricity()\n",
    "ndb.update_custom_scenario()"
   ]
  },
  {
   "cell_type": "code",
   "execution_count": 5,
   "id": "735c917f-c29f-4b33-af29-e968410872ff",
   "metadata": {},
   "outputs": [],
   "source": [
    "l = []\n",
    "\n",
    "if l: print(\"yes\")"
   ]
  },
  {
   "cell_type": "code",
   "execution_count": 5,
   "id": "9060bfc4-d217-435b-b4aa-ae9f87f2a615",
   "metadata": {},
   "outputs": [
    {
     "name": "stdout",
     "output_type": "stream",
     "text": [
      "Write new database(s) to Brightway2.\n",
      "Prepare database 1.\n",
      "21026 datasets\n",
      "678446 exchanges\n",
      "0 unlinked exchanges\n",
      "  \n"
     ]
    },
    {
     "name": "stderr",
     "output_type": "stream",
     "text": [
      "Writing activities to SQLite3 database:\n",
      "0% [##############################] 100% | ETA: 00:00:00\n",
      "Total time elapsed: 00:00:32\n"
     ]
    },
    {
     "name": "stdout",
     "output_type": "stream",
     "text": [
      "Title: Writing activities to SQLite3 database:\n",
      "  Started: 03/25/2022 11:46:09\n",
      "  Finished: 03/25/2022 11:46:42\n",
      "  Total time elapsed: 00:00:32\n",
      "  CPU %: 2.20\n",
      "  Memory %: 15.76\n",
      "Created database: custom29\n",
      "Prepare database 2.\n",
      "21026 datasets\n",
      "678446 exchanges\n",
      "0 unlinked exchanges\n",
      "  \n"
     ]
    },
    {
     "name": "stderr",
     "output_type": "stream",
     "text": [
      "Writing activities to SQLite3 database:\n",
      "0% [##############################] 100% | ETA: 00:00:00\n",
      "Total time elapsed: 00:00:32\n"
     ]
    },
    {
     "name": "stdout",
     "output_type": "stream",
     "text": [
      "Title: Writing activities to SQLite3 database:\n",
      "  Started: 03/25/2022 11:53:20\n",
      "  Finished: 03/25/2022 11:53:53\n",
      "  Total time elapsed: 00:00:32\n",
      "  CPU %: 2.20\n",
      "  Memory %: 14.24\n",
      "Created database: custom30\n"
     ]
    }
   ],
   "source": [
    "ndb.write_db_to_brightway(name=[\"custom29\", \"custom30\"])"
   ]
  },
  {
   "cell_type": "code",
   "execution_count": 6,
   "id": "6fa4df71-a43f-494c-b6ec-c6f92c013fa0",
   "metadata": {},
   "outputs": [
    {
     "data": {
      "text/plain": [
       "['electricity']"
      ]
     },
     "execution_count": 6,
     "metadata": {},
     "output_type": "execute_result"
    }
   ],
   "source": [
    "[x for x in [\"electricity\"]]"
   ]
  },
  {
   "cell_type": "code",
   "execution_count": null,
   "id": "61735783-2877-4be8-aa16-e81bb49a64aa",
   "metadata": {},
   "outputs": [],
   "source": []
  },
  {
   "cell_type": "code",
   "execution_count": null,
   "id": "243b3285-9501-4be9-96e8-595cedf39385",
   "metadata": {},
   "outputs": [],
   "source": []
  }
 ],
 "metadata": {
  "kernelspec": {
   "display_name": "Python 3 (ipykernel)",
   "language": "python",
   "name": "python3"
  },
  "language_info": {
   "codemirror_mode": {
    "name": "ipython",
    "version": 3
   },
   "file_extension": ".py",
   "mimetype": "text/x-python",
   "name": "python",
   "nbconvert_exporter": "python",
   "pygments_lexer": "ipython3",
   "version": "3.9.10"
  }
 },
 "nbformat": 4,
 "nbformat_minor": 5
}
